{
 "cells": [
  {
   "cell_type": "code",
   "execution_count": 88,
   "metadata": {
    "collapsed": true
   },
   "outputs": [],
   "source": [
    "from math import sqrt\n",
    "import pprint\n",
    "import copy"
   ]
  },
  {
   "cell_type": "code",
   "execution_count": 17,
   "metadata": {},
   "outputs": [],
   "source": [
    "FIELD_SIDE_LEN = 9\n",
    "MAX_NUM = FIELD_SIDE_LEN\n",
    "SQUARE_SIDE_LEN = int(sqrt(FIELD_SIDE_LEN))"
   ]
  },
  {
   "cell_type": "code",
   "execution_count": 78,
   "metadata": {
    "collapsed": true
   },
   "outputs": [],
   "source": [
    "def empty_field():\n",
    "    field = [[0] * FIELD_SIDE_LEN for _ in range(FIELD_SIDE_LEN)]\n",
    "    return field"
   ]
  },
  {
   "cell_type": "code",
   "execution_count": 79,
   "metadata": {},
   "outputs": [],
   "source": [
    "def the_field():\n",
    "    field = [\n",
    "        [0, 7, 0, 5, 0, 4, 0, 1, 0],\n",
    "        [4, 0, 0, 0, 3, 0, 0, 0, 2],\n",
    "        [0, 0, 0, 0, 0, 0, 7, 0, 0],\n",
    "        [5, 0, 0, 0, 0, 8, 0, 0, 9],\n",
    "        [0, 2, 0, 0, 0, 0, 0, 3, 0],\n",
    "        [3, 0, 0, 6, 0, 0, 0, 0, 8],\n",
    "        [0, 0, 8, 0, 0, 0, 0, 0, 0],\n",
    "        [9, 0, 0, 0, 8, 0, 0, 0, 6],\n",
    "        [0, 5, 0, 7, 0, 2, 0, 8, 0]\n",
    "    ]\n",
    "    return field"
   ]
  },
  {
   "cell_type": "code",
   "execution_count": 106,
   "metadata": {
    "collapsed": true
   },
   "outputs": [],
   "source": [
    "def check_line(line):\n",
    "    #print(f'checking line {line}')\n",
    "    found_numbers = {}\n",
    "    for elem in line:\n",
    "        if elem != 0 and found_numbers.get(elem, None):\n",
    "            #print(f'found wrong elem {elem}')\n",
    "            return False\n",
    "        found_numbers[elem] = True\n",
    "    return True"
   ]
  },
  {
   "cell_type": "code",
   "execution_count": 35,
   "metadata": {
    "collapsed": true
   },
   "outputs": [],
   "source": [
    "def assert_field(field):\n",
    "    assert len(field) == FIELD_SIDE_LEN\n",
    "    for line in field:\n",
    "        assert len(line) == FIELD_SIDE_LEN"
   ]
  },
  {
   "cell_type": "code",
   "execution_count": 107,
   "metadata": {},
   "outputs": [],
   "source": [
    "def check(field):\n",
    "    #assert_field(field)\n",
    "    for evalidx, line in enumerate(field):\n",
    "        if not check_line(line):\n",
    "            #print(f'eval to {False} after line {evalidx}')\n",
    "            return False\n",
    "    transposed_field = list(map(list, zip(*field)))\n",
    "    assert_field(transposed_field)\n",
    "    for evalidx, col in enumerate(transposed_field):\n",
    "        if not check_line(col):\n",
    "            #print(f'eval to {False} after col {evalidx}')\n",
    "            return False\n",
    "    for square_location_down in range(SQUARE_SIDE_LEN):\n",
    "        for square_location_right in range(SQUARE_SIDE_LEN):\n",
    "            square = []\n",
    "            for square_line_index in range(SQUARE_SIDE_LEN):\n",
    "                square_line = field[square_location_down * SQUARE_SIDE_LEN + square_line_index][square_location_right * SQUARE_SIDE_LEN : square_location_right * SQUARE_SIDE_LEN + SQUARE_SIDE_LEN]\n",
    "                square += square_line\n",
    "            if not check_line(square):\n",
    "                evalidx = square_location_down * SQUARE_SIDE_LEN + square_location_right\n",
    "                #print(f'eval to {False} after square {evalidx}')\n",
    "                return False\n",
    "    return True"
   ]
  },
  {
   "cell_type": "code",
   "execution_count": 137,
   "metadata": {},
   "outputs": [],
   "source": [
    "def solve(field):\n",
    "    given = copy.deepcopy(field)\n",
    "    field_index = 0\n",
    "    backtracking = False\n",
    "    while field_index < FIELD_SIDE_LEN ** 2:\n",
    "        #print(f'field index {field_index}')\n",
    "        field_line_index = field_index // FIELD_SIDE_LEN\n",
    "        field_col_index = field_index % FIELD_SIDE_LEN\n",
    "        if given[field_line_index][field_col_index] == 0:\n",
    "            backtracking = False\n",
    "            start_trial_number = field[field_line_index][field_col_index] + 1\n",
    "            trial_is_good = False\n",
    "            for trial_number in range(start_trial_number, MAX_NUM+1):\n",
    "                #print(f'trial number {trial_number}')\n",
    "                field[field_line_index][field_col_index] = trial_number\n",
    "                trial_is_good = check(field)\n",
    "                if trial_is_good:\n",
    "                    #print(f'field [{field_line_index}][{field_col_index}] = {field[field_line_index][field_col_index]}')\n",
    "                    field_index += 1\n",
    "                    break\n",
    "            else:\n",
    "                field[field_line_index][field_col_index] = 0\n",
    "                field_index -= 1\n",
    "                backtracking = True\n",
    "        else:\n",
    "            if not backtracking:\n",
    "                field_index += 1\n",
    "            else:\n",
    "                field_index -= 1"
   ]
  },
  {
   "cell_type": "code",
   "execution_count": 138,
   "metadata": {},
   "outputs": [
    {
     "name": "stdout",
     "output_type": "stream",
     "text": [
      "14 s ± 0 ns per loop (mean ± std. dev. of 1 run, 1 loop each)\n",
      "[[2, 7, 9, 5, 6, 4, 8, 1, 3],\n",
      " [4, 1, 5, 8, 3, 7, 9, 6, 2],\n",
      " [6, 8, 3, 2, 1, 9, 7, 4, 5],\n",
      " [5, 6, 4, 3, 7, 8, 1, 2, 9],\n",
      " [8, 2, 1, 9, 4, 5, 6, 3, 7],\n",
      " [3, 9, 7, 6, 2, 1, 4, 5, 8],\n",
      " [7, 3, 8, 4, 5, 6, 2, 9, 1],\n",
      " [9, 4, 2, 1, 8, 3, 5, 7, 6],\n",
      " [1, 5, 6, 7, 9, 2, 3, 8, 4]]\n"
     ]
    }
   ],
   "source": [
    "field = the_field()\n",
    "%timeit -n1 -r1 solve(field)\n",
    "pprint.pprint(field)"
   ]
  },
  {
   "cell_type": "code",
   "execution_count": null,
   "metadata": {
    "collapsed": true
   },
   "outputs": [],
   "source": []
  }
 ],
 "metadata": {
  "kernelspec": {
   "display_name": "Python 3",
   "language": "python",
   "name": "python3"
  },
  "language_info": {
   "codemirror_mode": {
    "name": "ipython",
    "version": 3
   },
   "file_extension": ".py",
   "mimetype": "text/x-python",
   "name": "python",
   "nbconvert_exporter": "python",
   "pygments_lexer": "ipython3",
   "version": "3.6.2"
  }
 },
 "nbformat": 4,
 "nbformat_minor": 2
}
